{
 "cells": [
  {
   "cell_type": "code",
   "execution_count": 34,
   "id": "70e9298e",
   "metadata": {},
   "outputs": [],
   "source": [
    "import math"
   ]
  },
  {
   "cell_type": "code",
   "execution_count": 27,
   "id": "e1786612",
   "metadata": {},
   "outputs": [],
   "source": [
    "class Calculator:\n",
    "    def add(self, a, b):\n",
    "        return a + b\n",
    "    \n",
    "    def subtract(self, a, b):\n",
    "        return a + b\n",
    "    \n",
    "    def multiply(self, a, b):\n",
    "        return a - b\n",
    "    \n",
    "    def division(self, a, b):\n",
    "        if b == 0:\n",
    "            print('0 is not allowed, write another number')\n",
    "        return a / b\n",
    "    \n",
    "# Initializing the operations dictionary with basic operations and their corresponding methods \n",
    "    def __init__(self):\n",
    "        self.operations = {\n",
    "            '+': self.add,\n",
    "            '-': self.subtract,\n",
    "            '*': self.multiply,\n",
    "            '/': self.division\n",
    "        }\n",
    "        \n",
    "    def add_operations(self, symbol, functions):\n",
    "        self.operations[symbol] = functions\n",
    "        \n",
    "    def calculate(self, a, operation, b):\n",
    "        # check if operation is valid\n",
    "        if operation not in self.operations:\n",
    "            print(f'Error! {operation} not valid')\n",
    "            \n",
    "        # check if input are numbers\n",
    "        if not (isinstance(a, (int, float)) and isinstance(b, (int, float))):\n",
    "            print('Error! Both number must be integers or floats')\n",
    "        function = self.operations[operation]\n",
    "        return function(a, b)"
   ]
  },
  {
   "cell_type": "code",
   "execution_count": 28,
   "id": "f76ff2c2",
   "metadata": {},
   "outputs": [],
   "source": [
    "# Create an instance of the Calulator class\n",
    "calc = Calculator()"
   ]
  },
  {
   "cell_type": "code",
   "execution_count": 29,
   "id": "a376563d",
   "metadata": {},
   "outputs": [],
   "source": [
    "# Create separate functions for the advanced mathematical operations (exponentiation, square root, logarithm)\n",
    "\n",
    "def exponent(a, b):\n",
    "    return a ** b\n",
    "\n",
    "def squareroot(a, _):\n",
    "    return math.sqrt(a)\n",
    "\n",
    "def log(a, b):\n",
    "    # Calculating the logarithm of num1 with base num2, with checks for valid inputs\n",
    "    if a <= 0:\n",
    "        print('Error! logarithm base must be greater than 0')\n",
    "    \n",
    "    if b <= 0 or b == 1:\n",
    "        print('Error! Logarithm arguement must be greater than 0 and can not be equal to 1')\n",
    "    return math.log(a, b)"
   ]
  },
  {
   "cell_type": "code",
   "execution_count": 30,
   "id": "94e1a61a",
   "metadata": {},
   "outputs": [],
   "source": [
    "# use the \"add_operation\" method to add them to the calculator's dictionary.\n",
    "calc.add_operations('^', exponent)\n",
    "calc.add_operations('sqrt', squareroot)\n",
    "calc.add_operations('log', log)"
   ]
  },
  {
   "cell_type": "code",
   "execution_count": 36,
   "id": "40c70e98",
   "metadata": {},
   "outputs": [
    {
     "name": "stdout",
     "output_type": "stream",
     "text": [
      "Write the first number or enter q to exit 6\n",
      "Write another number to continue 2\n",
      "Write one of these (+, -, *, /, ^, sqrt, log) log\n",
      "The total of 6 log 2 is 2.584962500721156\n",
      "Write the first number or enter q to exit 8\n",
      "Write another number to continue 3\n",
      "Write one of these (+, -, *, /, ^, sqrt, log) sqrt\n",
      "The total of 8 sqrt 0 is 2.8284271247461903\n",
      "Write the first number or enter q to exit q\n"
     ]
    }
   ],
   "source": [
    "# Use a while loop that allows the user to continue performing calculations until they choose to exit.\n",
    "while True:\n",
    "    #Prompt the user to enter the first number or exit\n",
    "    input_a = input('Write the first number or enter q to exit ')\n",
    "    if input_a == 'q':\n",
    "        break\n",
    "    # enter the second number\n",
    "    input_b = input('Write another number to continue ')\n",
    "    \n",
    "    # Write an operation to perform\n",
    "    operation = input('Write one of these (+, -, *, /, ^, sqrt, log) ')\n",
    "    \n",
    "    # Convert the inputs to integer\n",
    "    num1 = int(input_a)\n",
    "    num2 = int(input_b) if operation != 'sqrt' else 0 #(sqrt require only one number)\n",
    "    \n",
    "    # Perform operation\n",
    "    result = calc.calculate(num1, operation, num2)\n",
    "    \n",
    "    # Display the result\n",
    "    print(f'The total of {num1} {operation} {num2} is {result}')"
   ]
  },
  {
   "cell_type": "code",
   "execution_count": null,
   "id": "e2903cef",
   "metadata": {},
   "outputs": [],
   "source": []
  }
 ],
 "metadata": {
  "kernelspec": {
   "display_name": "Python 3",
   "language": "python",
   "name": "python3"
  },
  "language_info": {
   "codemirror_mode": {
    "name": "ipython",
    "version": 3
   },
   "file_extension": ".py",
   "mimetype": "text/x-python",
   "name": "python",
   "nbconvert_exporter": "python",
   "pygments_lexer": "ipython3",
   "version": "3.8.8"
  }
 },
 "nbformat": 4,
 "nbformat_minor": 5
}
